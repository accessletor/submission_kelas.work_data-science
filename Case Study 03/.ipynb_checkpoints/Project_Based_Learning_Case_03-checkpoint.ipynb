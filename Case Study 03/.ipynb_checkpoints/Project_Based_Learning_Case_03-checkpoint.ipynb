{
 "cells": [
  {
   "cell_type": "markdown",
   "metadata": {},
   "source": [
    "### Context"
   ]
  },
  {
   "cell_type": "markdown",
   "metadata": {},
   "source": [
    "League of Legends adalah MOBA (Multiplayer Online Battle Arena) di mana dalam permainannya terdapat 2 tim (biru dan merah) yang saling berhadapan. Dalam satu laga permainan, ada 3 jalur yang dijadikan medan perang, hutan dan pemainnya terbagi jadi 5 peran. Tujuan permainan ini adalah menjatuhkan Nexus atau base musuh dan memenangkan permainan."
   ]
  },
  {
   "cell_type": "markdown",
   "metadata": {},
   "source": [
    "### Content"
   ]
  },
  {
   "cell_type": "markdown",
   "metadata": {},
   "source": [
    "Diketahui dataset berisi 10 menit dari pertandingan.  Game yang dimainkan berperingkat 10k (SOLO QUEUE Player) dari ELO Diamond I hingga level Master. ELO sendiri merupakan teknik pencarian pemain dengan peringkat atau tingkat keterampilan yang sejenis. Setiap permainan yang terjadi itu unik. GameId dapat membantu kamu mengambil lebih banyak atribut dari Riot API pada kolom dataset. \n",
    "\n",
    "Dari data Glossary & Variables, diketahui terdapat 19 fitur pertim (total 38) yang dikumpulkan setelah 10 menit game berlangsung. Data ini termasuk pembunuhan, kematian, emas, pengalaman dan level. Di sini kamu dibebaskan untuk melakukan beberapa rekayasa fitur untuk mendapatkan lebih banyak wawasan atau insight. \n",
    "\n",
    "Pada data diketahui juga bahwa kolom blueWins adalah nilai target atau nilai yang akan coba diprediksi, di mana jika Nilai 1 berarti tim biru menang, sedangkan jika Nilai 0 maka sebaliknya. "
   ]
  },
  {
   "cell_type": "markdown",
   "metadata": {},
   "source": [
    "### Glossary"
   ]
  },
  {
   "cell_type": "markdown",
   "metadata": {},
   "source": [
    "- Warding totem: Item yang dapat diletakkan pemain di peta untuk mengungkap area terdekat. Sangat berguna untuk kontrol peta/tujuan. \n",
    "- Minions: Item yang dapat diletakkan pemain di peta untuk mengungkap area terdekat. Sangat berguna untuk kontrol peta/tujuan.\n",
    "- Jungle minions: NPC milik NO TEAM. Mereka memberi emas dan buff saat dibunuh oleh pemain.\n",
    "- Elite monsters: Monster dengan hp/damage tinggi yang memberikan bonus besar (gold/XP/stat) saat dibunuh oleh tim.\n",
    "- Dragons: Monster elit yang memberikan bonus tim saat terbunuh. Naga ke-4 yang dibunuh oleh tim memberikan bonus statistik yang sangat besar. The - - 5th dragon (Elder Dragon) menawarkan keuntungan besar bagi tim.\n",
    "- Herald: Monster elit yang memberikan bonus statistik saat dibunuh oleh pemain. Ini membantu untuk mendorong jalur dan menghancurkan struktur.\n",
    "- Towers: Struktur yang harus Anda hancurkan untuk mencapai Nexus musuh. Mereka memberi emas.\n",
    "- Level: Champion level. Mulai dari 1. Maksimal 18."
   ]
  },
  {
   "cell_type": "markdown",
   "metadata": {},
   "source": [
    "### Variables"
   ]
  },
  {
   "cell_type": "markdown",
   "metadata": {},
   "source": [
    "1.\tGameid : ID RIOT unik dari game. Dapat digunakan dengan Riot Games API.\n",
    "2.\tBluewins: Kolom target. 1 jika tim biru menang, 0 sebaliknya.\n",
    "3.\tblueWardsPlaced Jumlah totem penangkal yang ditempatkan oleh tim biru di peta\n",
    "4.\tblueWardsDestroyed : Jumlah totem penangkal musuh yang telah dihancurkan oleh tim biru\n",
    "5.\tblueFirstBlood : Pembunuhan pertama dari permainan. 1 jika tim biru melakukan pembunuhan pertama, 0 sebaliknya\n",
    "6.\tblueKills : Jumlah musuh yang dibunuh oleh tim biru\n",
    "7.\tblueDeaths : Jumlah kematian (tim biru)\n",
    "8.\tblueAssists : Jumlah assist kill (tim biru)\n",
    "9.\tblueEliteMonsters : Jumlah monster elit yang dibunuh oleh tim biru (Dragons and Heralds)\n",
    "10.\tblueDragons : Jumlah naga yang dibunuh oleh tim biru\n",
    "11.\tblueHeralds :  Jumlah tentara yang dibunuh oleh tim biru\n",
    "12.\tblueTowersDestroyed : Jumlah bangunan yang dihancurkan oleh tim biru (menara...)\n",
    "13.\tblueTotalGold : Tim biru total emas\n",
    "14.\tblueAvgLevel : Tingkat juara rata-rata tim biru\n",
    "15.\tblueTotalExperience : Pengalaman total tim biru\n",
    "16.\tblueTotalMinionsKilled : Total minion tim biru terbunuh (CS)\n",
    "17.\tblueTotalJungleMinionsKilled : Total monster hutan tim biru terbunuh\n",
    "18.\tblueGoldDiff : Perbedaan emas tim biru dibandingkan dengan tim musuh\n",
    "19.\tblueExperienceDiff : Tim biru mengalami perbedaan dibandingkan dengan tim musuh\n",
    "20.\tblueCSPerMin : CS tim biru (antek) per menit\n",
    "21.\tblueGoldPerMin : Emas tim biru per menit\n",
    "22.\tredWardsPlaced : Jumlah totem penangkal yang ditempatkan oleh tim merah di peta\n",
    "23.\tredWardsDestroyed : Jumlah totem penangkal musuh yang telah dihancurkan oleh tim merah\n",
    "24.\tredFirstBlood : Pembunuhan pertama dari permainan. 1 jika tim merah melakukan pembunuhan pertama, 0 sebaliknya\n",
    "25.\tredKills : Jumlah musuh yang dibunuh oleh tim merah\n",
    "26.\tredDeaths : Jumlah kematian (tim merah)\n",
    "27.\tredAssists: Jumlah assist kill (tim merah)\n",
    "28.\tredEliteMonsters : Jumlah monster elit yang dibunuh oleh tim merah (Dragons and Heralds)\n",
    "29.\tredDragons : Jumlah naga yang dibunuh oleh tim merah\n",
    "30.\tredHeralds: Jumlah bentara yang dibunuh oleh tim merah\n",
    "31.\tredTowersDestroyed : Jumlah bangunan yang dihancurkan oleh tim merah (menara)\n",
    "32.\tredTotalGold: Tim merah total emas\n",
    "33.\tredAvgLevel: Tingkat juara rata-rata tim merah\n",
    "34.\tredTotalExperience: Pengalaman total tim merah\n",
    "35.\tredTotalMinionsKilled : Total minion tim merah tewas (CS)\n",
    "36.\tredTotalJungleMinionsKilled : Total monster hutan tim merah terbunuh\n",
    "37.\tredGoldDiff : Perbedaan emas tim merah dibandingkan dengan tim musuh\n",
    "38.\tredExperienceDiff : Tim merah mengalami perbedaan dibandingkan dengan tim musuh\n",
    "39.\tredCSPerMin : CS tim merah (antek) per menit\n",
    "40.\tredGoldPerMin : Emas tim merah per menit"
   ]
  },
  {
   "cell_type": "markdown",
   "metadata": {},
   "source": [
    "## 1. Importing libraries"
   ]
  },
  {
   "cell_type": "code",
   "execution_count": 1,
   "metadata": {},
   "outputs": [],
   "source": [
    "import pandas as pd\n",
    "import numpy as np\n",
    "import matplotlib.pyplot as plt\n",
    "import seaborn as sns"
   ]
  },
  {
   "cell_type": "code",
   "execution_count": 2,
   "metadata": {},
   "outputs": [],
   "source": [
    "# Import Data\n",
    "df = pd.read_csv('high_diamond_ranked_10min.csv')"
   ]
  },
  {
   "cell_type": "code",
   "execution_count": 3,
   "metadata": {},
   "outputs": [
    {
     "name": "stdout",
     "output_type": "stream",
     "text": [
      "Data shape: (9879, 40)\n"
     ]
    }
   ],
   "source": [
    "# Checking the shape of the data\n",
    "print(\"Data shape:\", df.shape)"
   ]
  },
  {
   "cell_type": "markdown",
   "metadata": {},
   "source": [
    "## 2. Basic EDA & Data Preprocessing"
   ]
  },
  {
   "cell_type": "code",
   "execution_count": 4,
   "metadata": {},
   "outputs": [
    {
     "name": "stdout",
     "output_type": "stream",
     "text": [
      "Null values:\n",
      " gameId                          0\n",
      "blueWins                        0\n",
      "blueWardsPlaced                 0\n",
      "blueWardsDestroyed              0\n",
      "blueFirstBlood                  0\n",
      "blueKills                       0\n",
      "blueDeaths                      0\n",
      "blueAssists                     0\n",
      "blueEliteMonsters               0\n",
      "blueDragons                     0\n",
      "blueHeralds                     0\n",
      "blueTowersDestroyed             0\n",
      "blueTotalGold                   0\n",
      "blueAvgLevel                    0\n",
      "blueTotalExperience             0\n",
      "blueTotalMinionsKilled          0\n",
      "blueTotalJungleMinionsKilled    0\n",
      "blueGoldDiff                    0\n",
      "blueExperienceDiff              0\n",
      "blueCSPerMin                    0\n",
      "blueGoldPerMin                  0\n",
      "redWardsPlaced                  0\n",
      "redWardsDestroyed               0\n",
      "redFirstBlood                   0\n",
      "redKills                        0\n",
      "redDeaths                       0\n",
      "redAssists                      0\n",
      "redEliteMonsters                0\n",
      "redDragons                      0\n",
      "redHeralds                      0\n",
      "redTowersDestroyed              0\n",
      "redTotalGold                    0\n",
      "redAvgLevel                     0\n",
      "redTotalExperience              0\n",
      "redTotalMinionsKilled           0\n",
      "redTotalJungleMinionsKilled     0\n",
      "redGoldDiff                     0\n",
      "redExperienceDiff               0\n",
      "redCSPerMin                     0\n",
      "redGoldPerMin                   0\n",
      "dtype: int64\n"
     ]
    }
   ],
   "source": [
    "# Checking null values\n",
    "print(\"Null values:\\n\", df.isnull().sum())"
   ]
  },
  {
   "cell_type": "code",
   "execution_count": 5,
   "metadata": {},
   "outputs": [
    {
     "name": "stdout",
     "output_type": "stream",
     "text": [
      "Data types:\n",
      " gameId                            int64\n",
      "blueWins                          int64\n",
      "blueWardsPlaced                   int64\n",
      "blueWardsDestroyed                int64\n",
      "blueFirstBlood                    int64\n",
      "blueKills                         int64\n",
      "blueDeaths                        int64\n",
      "blueAssists                       int64\n",
      "blueEliteMonsters                 int64\n",
      "blueDragons                       int64\n",
      "blueHeralds                       int64\n",
      "blueTowersDestroyed               int64\n",
      "blueTotalGold                     int64\n",
      "blueAvgLevel                    float64\n",
      "blueTotalExperience               int64\n",
      "blueTotalMinionsKilled            int64\n",
      "blueTotalJungleMinionsKilled      int64\n",
      "blueGoldDiff                      int64\n",
      "blueExperienceDiff                int64\n",
      "blueCSPerMin                    float64\n",
      "blueGoldPerMin                  float64\n",
      "redWardsPlaced                    int64\n",
      "redWardsDestroyed                 int64\n",
      "redFirstBlood                     int64\n",
      "redKills                          int64\n",
      "redDeaths                         int64\n",
      "redAssists                        int64\n",
      "redEliteMonsters                  int64\n",
      "redDragons                        int64\n",
      "redHeralds                        int64\n",
      "redTowersDestroyed                int64\n",
      "redTotalGold                      int64\n",
      "redAvgLevel                     float64\n",
      "redTotalExperience                int64\n",
      "redTotalMinionsKilled             int64\n",
      "redTotalJungleMinionsKilled       int64\n",
      "redGoldDiff                       int64\n",
      "redExperienceDiff                 int64\n",
      "redCSPerMin                     float64\n",
      "redGoldPerMin                   float64\n",
      "dtype: object\n"
     ]
    }
   ],
   "source": [
    "# checking data types of the columns\n",
    "print(\"Data types:\\n\", df.dtypes)"
   ]
  },
  {
   "cell_type": "code",
   "execution_count": 6,
   "metadata": {},
   "outputs": [
    {
     "name": "stdout",
     "output_type": "stream",
     "text": [
      "Quasi-constant columns: []\n"
     ]
    }
   ],
   "source": [
    "#checking for quasi constants\n",
    "quasi_constants = []\n",
    "for column in df.columns:\n",
    "    dominant = (df[column].value_counts().max() / df.shape[0]) * 100\n",
    "    if dominant > 99:\n",
    "        quasi_constants.append(column)\n",
    "print(\"Quasi-constant columns:\", quasi_constants)"
   ]
  },
  {
   "cell_type": "code",
   "execution_count": 7,
   "metadata": {},
   "outputs": [
    {
     "data": {
      "image/png": "[encoded data removed]",
      "text/plain": [
       "<Figure size 640x480 with 1 Axes>"
      ]
     },
     "metadata": {},
     "output_type": "display_data"
    }
   ],
   "source": [
    "# Bar plot of the outcomes to see how they are distributed\n",
    "sns.countplot(x='blueWins', data=df)\n",
    "plt.show()"
   ]
  },
  {
   "cell_type": "code",
   "execution_count": 8,
   "metadata": {},
   "outputs": [
    {
     "name": "stdout",
     "output_type": "stream",
     "text": [
      "Value counts of blueWins:\n",
      " 0    4949\n",
      "1    4930\n",
      "Name: blueWins, dtype: int64\n"
     ]
    }
   ],
   "source": [
    "# Value counts data blueWins\n",
    "print(\"Value counts of blueWins:\\n\", df['blueWins'].value_counts())"
   ]
  },
  {
   "cell_type": "markdown",
   "metadata": {},
   "source": [
    "# Buatlah catatan dari hasil data preprocessing"
   ]
  },
  {
   "cell_type": "markdown",
   "metadata": {},
   "source": [
    "#### Importing required libraries"
   ]
  },
  {
   "cell_type": "code",
   "execution_count": null,
   "metadata": {},
   "outputs": [],
   "source": [
    "# - Missing values: Column X has Y missing values and we decided to remove the rows with missing values.\n",
    "# - Data types: Converted column A to datetime type for further analysis.\n",
    "# - Quasi-constant columns: Identified column Z as quasi-constant and decided to drop it.\n",
    "# - Class imbalance: The target variable 'blueWins' shows some class imbalance, with more 0s than 1s."
   ]
  },
  {
   "cell_type": "markdown",
   "metadata": {},
   "source": [
    "## 3. Data Splitting into train and test set"
   ]
  },
  {
   "cell_type": "code",
   "execution_count": 12,
   "metadata": {},
   "outputs": [],
   "source": [
    "# Data Splitting into train and test set\n",
    "from sklearn.model_selection import train_test_split\n",
    "\n",
    "# Splitting the data into features (X) and target (y)\n",
    "X = df.drop('blueWins', axis=1)\n",
    "y = df['blueWins']\n",
    "\n",
    "# Splitting the data into training and testing sets\n",
    "X_train, X_test, y_train, y_test = train_test_split(X, y, test_size=0.2, random_state=42)"
   ]
  },
  {
   "cell_type": "markdown",
   "metadata": {},
   "source": [
    "## 4. Feature Selection and Compare Each Model"
   ]
  },
  {
   "cell_type": "markdown",
   "metadata": {},
   "source": [
    "Method 1: Feature Selection using different methods and checking with different models"
   ]
  },
  {
   "cell_type": "markdown",
   "metadata": {},
   "source": [
    "Feature Selection using Feature importance of Random Forest Classifier"
   ]
  },
  {
   "cell_type": "code",
   "execution_count": 13,
   "metadata": {},
   "outputs": [
    {
     "name": "stdout",
     "output_type": "stream",
     "text": [
      "Selected Features using RFC: ['blueGoldDiff' 'redGoldDiff' 'redExperienceDiff' 'blueExperienceDiff'\n",
      " 'blueGoldPerMin' 'redTotalGold' 'redGoldPerMin' 'blueTotalExperience'\n",
      " 'blueTotalGold' 'redTotalExperience']\n"
     ]
    }
   ],
   "source": [
    "# Splitting the data into training and testing sets\n",
    "from sklearn.ensemble import RandomForestClassifier\n",
    "\n",
    "rfc = RandomForestClassifier()\n",
    "rfc.fit(X_train, y_train)\n",
    "importances = rfc.feature_importances_\n",
    "feature_importances = pd.DataFrame({'Feature': X_train.columns, 'Importance': importances})\n",
    "feature_importances = feature_importances.sort_values(by='Importance', ascending=False)\n",
    "selected_features_rfc = feature_importances['Feature'][:10].values\n",
    "print(\"Selected Features using RFC:\", selected_features_rfc)"
   ]
  },
  {
   "cell_type": "markdown",
   "metadata": {},
   "source": [
    "Feature Selection using Recursive feature extraction (RFE)"
   ]
  },
  {
   "cell_type": "code",
   "execution_count": 14,
   "metadata": {},
   "outputs": [
    {
     "name": "stdout",
     "output_type": "stream",
     "text": [
      "Selected Features using RFE: ['gameId' 'blueTotalGold' 'blueTotalExperience' 'blueGoldDiff'\n",
      " 'blueExperienceDiff' 'blueGoldPerMin' 'redTotalGold' 'redTotalExperience'\n",
      " 'redGoldDiff' 'redExperienceDiff']\n"
     ]
    }
   ],
   "source": [
    "# Feature Selection using Recursive feature extraction (RFE)\n",
    "from sklearn.feature_selection import RFE\n",
    "from sklearn.linear_model import LogisticRegression\n",
    "\n",
    "logreg = LogisticRegression()\n",
    "rfe = RFE(logreg, n_features_to_select=10)\n",
    "rfe.fit(X_train, y_train)\n",
    "selected_features_rfe = X_train.columns[rfe.support_].values\n",
    "print(\"Selected Features using RFE:\", selected_features_rfe)"
   ]
  },
  {
   "cell_type": "markdown",
   "metadata": {},
   "source": [
    "## 5. Modelling and Evaluation\n"
   ]
  },
  {
   "cell_type": "code",
   "execution_count": 15,
   "metadata": {},
   "outputs": [
    {
     "name": "stdout",
     "output_type": "stream",
     "text": [
      "Accuracy (RFC): 0.7019230769230769\n",
      "Classification Report (RFC):\n",
      "               precision    recall  f1-score   support\n",
      "\n",
      "           0       0.70      0.71      0.70       983\n",
      "           1       0.71      0.69      0.70       993\n",
      "\n",
      "    accuracy                           0.70      1976\n",
      "   macro avg       0.70      0.70      0.70      1976\n",
      "weighted avg       0.70      0.70      0.70      1976\n",
      "\n",
      "Accuracy (Logistic Regression with RFE): 0.4974696356275304\n",
      "Classification Report (Logistic Regression with RFE):\n",
      "               precision    recall  f1-score   support\n",
      "\n",
      "           0       0.50      1.00      0.66       983\n",
      "           1       0.00      0.00      0.00       993\n",
      "\n",
      "    accuracy                           0.50      1976\n",
      "   macro avg       0.25      0.50      0.33      1976\n",
      "weighted avg       0.25      0.50      0.33      1976\n",
      "\n"
     ]
    },
    {
     "name": "stderr",
     "output_type": "stream",
     "text": [
      "C:\\Users\\Aisyah\\anaconda3\\lib\\site-packages\\sklearn\\metrics\\_classification.py:1344: UndefinedMetricWarning: Precision and F-score are ill-defined and being set to 0.0 in labels with no predicted samples. Use `zero_division` parameter to control this behavior.\n",
      "  _warn_prf(average, modifier, msg_start, len(result))\n",
      "C:\\Users\\Aisyah\\anaconda3\\lib\\site-packages\\sklearn\\metrics\\_classification.py:1344: UndefinedMetricWarning: Precision and F-score are ill-defined and being set to 0.0 in labels with no predicted samples. Use `zero_division` parameter to control this behavior.\n",
      "  _warn_prf(average, modifier, msg_start, len(result))\n",
      "C:\\Users\\Aisyah\\anaconda3\\lib\\site-packages\\sklearn\\metrics\\_classification.py:1344: UndefinedMetricWarning: Precision and F-score are ill-defined and being set to 0.0 in labels with no predicted samples. Use `zero_division` parameter to control this behavior.\n",
      "  _warn_prf(average, modifier, msg_start, len(result))\n"
     ]
    }
   ],
   "source": [
    "# Model 1: Random Forest Classifier\n",
    "from sklearn.metrics import accuracy_score, classification_report\n",
    "\n",
    "rfc_model = RandomForestClassifier()\n",
    "rfc_model.fit(X_train[selected_features_rfc], y_train)\n",
    "y_pred_rfc = rfc_model.predict(X_test[selected_features_rfc])\n",
    "\n",
    "accuracy_rfc = accuracy_score(y_test, y_pred_rfc)\n",
    "classification_report_rfc = classification_report(y_test, y_pred_rfc)\n",
    "print(\"Accuracy (RFC):\", accuracy_rfc)\n",
    "print(\"Classification Report (RFC):\\n\", classification_report_rfc)\n",
    "\n",
    "# Model 2: Logistic Regression with RFE-selected features\n",
    "logreg_model = LogisticRegression()\n",
    "logreg_model.fit(X_train[selected_features_rfe], y_train)\n",
    "y_pred_logreg = logreg_model.predict(X_test[selected_features_rfe])\n",
    "\n",
    "accuracy_logreg = accuracy_score(y_test, y_pred_logreg)\n",
    "classification_report_logreg = classification_report(y_test, y_pred_logreg)\n",
    "print(\"Accuracy (Logistic Regression with RFE):\", accuracy_logreg)\n",
    "print(\"Classification Report (Logistic Regression with RFE):\\n\", classification_report_logreg)"
   ]
  },
  {
   "cell_type": "code",
   "execution_count": null,
   "metadata": {},
   "outputs": [],
   "source": []
  }
 ],
 "metadata": {
  "kernelspec": {
   "display_name": "Python 3 (ipykernel)",
   "language": "python",
   "name": "python3"
  },
  "language_info": {
   "codemirror_mode": {
    "name": "ipython",
    "version": 3
   },
   "file_extension": ".py",
   "mimetype": "text/x-python",
   "name": "python",
   "nbconvert_exporter": "python",
   "pygments_lexer": "ipython3",
   "version": "3.10.9"
  },
  "vscode": {
   "interpreter": {
    "hash": "5e70fd34aa919644e731ce0c71c5ec6c66d3b48eb7909f9a04da7ee7076ef028"
   }
  }
 },
 "nbformat": 4,
 "nbformat_minor": 4
}
