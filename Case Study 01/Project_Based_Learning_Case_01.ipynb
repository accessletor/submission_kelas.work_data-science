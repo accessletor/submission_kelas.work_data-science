{
 "cells": [
  {
   "cell_type": "code",
   "execution_count": 1,
   "id": "f5db3540",
   "metadata": {},
   "outputs": [],
   "source": [
    "#Import Libraries\n",
    "import pandas as pd\n",
    "import numpy as np\n",
    "import scipy.stats as stats"
   ]
  },
  {
   "cell_type": "code",
   "execution_count": 2,
   "id": "63ec1c99",
   "metadata": {},
   "outputs": [],
   "source": [
    "#Create DataFrame\n",
    "data = {\n",
    "    'TransactionAmount': [100, 150, 50, 100, 130, 120, 100, 85, 70, 150, 150, 120, 50, 100, 100, 140, 90, 150, 50, 90, 120, 100, 110, 75, 65]\n",
    "}\n",
    "df = pd.DataFrame(data)"
   ]
  },
  {
   "cell_type": "code",
   "execution_count": 3,
   "id": "385c2aaf",
   "metadata": {},
   "outputs": [
    {
     "name": "stdout",
     "output_type": "stream",
     "text": [
      "Mean: 102.6\n",
      "Median: 100.0\n"
     ]
    }
   ],
   "source": [
    "#Central Tendency\n",
    "mean = df['TransactionAmount'].mean()\n",
    "median = df['TransactionAmount'].median()\n",
    "\n",
    "print(\"Mean:\", mean)\n",
    "print(\"Median:\", median)"
   ]
  },
  {
   "cell_type": "code",
   "execution_count": 4,
   "id": "598c332b",
   "metadata": {},
   "outputs": [
    {
     "name": "stdout",
     "output_type": "stream",
     "text": [
      "Central Tendency Analysis:\n",
      "Mean atau rata-rata adalah nilai rata-rata dari data, sedangkan median adalah nilai tengah.\n",
      "Dalam kasus ini, rata-ratanya adalah 102.6 dan median-nya adalah 100.0\n"
     ]
    }
   ],
   "source": [
    "# Tulis analisismu dari Central Tendency di sini\n",
    "print(\"Central Tendency Analysis:\")\n",
    "print(\"Mean atau rata-rata adalah nilai rata-rata dari data, sedangkan median adalah nilai tengah.\")\n",
    "print(\"Dalam kasus ini, rata-ratanya adalah\", mean, \"dan median-nya adalah\", median)"
   ]
  },
  {
   "cell_type": "code",
   "execution_count": 5,
   "id": "12a28933",
   "metadata": {},
   "outputs": [
    {
     "name": "stdout",
     "output_type": "stream",
     "text": [
      "Variance: 1012.7499999999997\n",
      "Standard Deviation: 31.82373328193912\n",
      "Range: 100\n",
      "Quantile 0.25: 85.0\n",
      "Quantile 0.5: 100.0\n",
      "Quantile 0.75: 120.0\n"
     ]
    }
   ],
   "source": [
    "#Variability\n",
    "variance = df['TransactionAmount'].var()\n",
    "std_deviation = df['TransactionAmount'].std()\n",
    "range_value = df['TransactionAmount'].max() - df['TransactionAmount'].min()\n",
    "quantile_25 = df['TransactionAmount'].quantile(0.25)\n",
    "quantile_50 = df['TransactionAmount'].quantile(0.5)\n",
    "quantile_75 = df['TransactionAmount'].quantile(0.75)\n",
    "\n",
    "print(\"Variance:\", variance)\n",
    "print(\"Standard Deviation:\", std_deviation)\n",
    "print(\"Range:\", range_value)\n",
    "print(\"Quantile 0.25:\", quantile_25)\n",
    "print(\"Quantile 0.5:\", quantile_50)\n",
    "print(\"Quantile 0.75:\", quantile_75)"
   ]
  },
  {
   "cell_type": "code",
   "execution_count": 6,
   "id": "470d438d",
   "metadata": {},
   "outputs": [
    {
     "name": "stdout",
     "output_type": "stream",
     "text": [
      "Analisis Variabilitas:\n",
      "Varians mengukur seberapa tersebar datanya, sedangkan simpangan baku memberikan nilai yang lebih mudah diinterpretasikan dalam satuan asli pengukuran.\n",
      "Dalam kasus ini, variansnya adalah 1012.7499999999997 dan simpangan baku adalah 31.82373328193912\n",
      "Rentang menunjukkan perbedaan antara nilai maksimum dan minimum dalam dataset, yaitu 100\n",
      "Kuartil memberikan informasi tentang distribusi data. Persentil ke-25 adalah 85.0\n",
      "Persentil ke-50 (median) adalah 100.0 dan persentil ke-75 adalah 120.0\n"
     ]
    }
   ],
   "source": [
    "#Tulis analisismu dari Variability di sini\n",
    "print(\"Analisis Variabilitas:\")\n",
    "print(\"Varians mengukur seberapa tersebar datanya, sedangkan simpangan baku memberikan nilai yang lebih mudah diinterpretasikan dalam satuan asli pengukuran.\")\n",
    "print(\"Dalam kasus ini, variansnya adalah\", variance, \"dan simpangan baku adalah\", std_deviation)\n",
    "print(\"Rentang menunjukkan perbedaan antara nilai maksimum dan minimum dalam dataset, yaitu\", range_value)\n",
    "print(\"Kuartil memberikan informasi tentang distribusi data. Persentil ke-25 adalah\", quantile_25)\n",
    "print(\"Persentil ke-50 (median) adalah\", quantile_50, \"dan persentil ke-75 adalah\", quantile_75)"
   ]
  },
  {
   "cell_type": "code",
   "execution_count": 7,
   "id": "6a2296eb",
   "metadata": {},
   "outputs": [],
   "source": [
    "#Define H0 and H1\n",
    "#H0: \n",
    "#H1:\n",
    "H0 = \"Tidak ada perbedaan yang signifikan antara jumlah transaksi rata-rata sebelum dan setelah pelatihan tenaga penjualan.\"\n",
    "H1 = \"Terdapat perbedaan yang signifikan antara jumlah transaksi rata-rata sebelum dan setelah pelatihan tenaga penjualan.\""
   ]
  },
  {
   "cell_type": "code",
   "execution_count": 8,
   "id": "4c5a9440",
   "metadata": {},
   "outputs": [],
   "source": [
    "#Define alpha = 0.05\n",
    "alpha = 0.05"
   ]
  },
  {
   "cell_type": "code",
   "execution_count": 9,
   "id": "3b467757",
   "metadata": {},
   "outputs": [],
   "source": [
    "#Calculate t statistics and P-value\n",
    "#Perform one sample t-test\n",
    "t_statistic, p_value = stats.ttest_1samp(df['TransactionAmount'], popmean=100)"
   ]
  },
  {
   "cell_type": "code",
   "execution_count": 10,
   "id": "af031b3e",
   "metadata": {},
   "outputs": [
    {
     "name": "stdout",
     "output_type": "stream",
     "text": [
      "T-Statistic: 0.4085001556802841\n",
      "P-Value: 0.6865284813438117\n"
     ]
    }
   ],
   "source": [
    "#statistic= , pvalue=\n",
    "print(\"T-Statistic:\", t_statistic)\n",
    "print(\"P-Value:\", p_value)"
   ]
  },
  {
   "cell_type": "code",
   "execution_count": 12,
   "id": "fc02ebab",
   "metadata": {},
   "outputs": [
    {
     "name": "stdout",
     "output_type": "stream",
     "text": [
      "T-Statistic: 0.4085001556802841\n",
      "P-Value: 0.6865284813438117\n",
      "Conclusion:\n",
      "Tidak dapat menolak hipotesis nol (H0)\n"
     ]
    }
   ],
   "source": [
    "#Conclude with alpha and p-value\n",
    "print(\"T-Statistic:\", t_statistic)\n",
    "print(\"P-Value:\", p_value)\n",
    "#Conclusion: \n",
    "print(\"Conclusion:\")\n",
    "if p_value < alpha:\n",
    "    print(\"Menolak hipotesis nol (H0)\")\n",
    "else:\n",
    "    print(\"Tidak dapat menolak hipotesis nol (H0)\")"
   ]
  },
  {
   "cell_type": "code",
   "execution_count": 13,
   "id": "5dfcdbb6",
   "metadata": {},
   "outputs": [],
   "source": [
    "#Conclude with t statistics and critical region\n",
    "#Find the critical region\n",
    "critical_region = stats.t.ppf(1 - alpha, df=len(df)-1)"
   ]
  },
  {
   "cell_type": "code",
   "execution_count": 14,
   "id": "50307fae",
   "metadata": {},
   "outputs": [
    {
     "name": "stdout",
     "output_type": "stream",
     "text": [
      "Critical region: 1.7108820799094275\n"
     ]
    }
   ],
   "source": [
    "#H1: ...\n",
    "print(\"Critical region:\", critical_region)"
   ]
  },
  {
   "cell_type": "code",
   "execution_count": 15,
   "id": "8911d7ac",
   "metadata": {},
   "outputs": [
    {
     "name": "stdout",
     "output_type": "stream",
     "text": [
      "T statistik tidak berada di wilayah kritis.\n",
      "Gagal menolak hipotesis nol (H0)\n",
      "Conclusion:\n",
      "Tidak ada perbedaan yang signifikan antara jumlah transaksi rata-rata sebelum dan setelah pelatihan tenaga penjualan.\n"
     ]
    }
   ],
   "source": [
    "#Critical region result\n",
    "if t_statistic > critical_region:\n",
    "    print(\"T statistik berada di wilayah kritis.\")\n",
    "    print(\"Tolak hipotesis nol (H0)\")\n",
    "else:\n",
    "    print(\"T statistik tidak berada di wilayah kritis.\")\n",
    "    print(\"Gagal menolak hipotesis nol (H0)\")\n",
    "#Conclusion: \n",
    "print(\"Conclusion:\")\n",
    "if p_value < alpha:\n",
    "    print(H1)\n",
    "else:\n",
    "    print(H0)"
   ]
  },
  {
   "cell_type": "code",
   "execution_count": null,
   "id": "3462e36c",
   "metadata": {},
   "outputs": [],
   "source": []
  }
 ],
 "metadata": {
  "kernelspec": {
   "display_name": "Python 3 (ipykernel)",
   "language": "python",
   "name": "python3"
  },
  "language_info": {
   "codemirror_mode": {
    "name": "ipython",
    "version": 3
   },
   "file_extension": ".py",
   "mimetype": "text/x-python",
   "name": "python",
   "nbconvert_exporter": "python",
   "pygments_lexer": "ipython3",
   "version": "3.10.9"
  }
 },
 "nbformat": 4,
 "nbformat_minor": 5
}
